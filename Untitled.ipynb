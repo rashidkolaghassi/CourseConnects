{
 "cells": [
  {
   "cell_type": "code",
   "execution_count": 3,
   "id": "f258cd1d",
   "metadata": {},
   "outputs": [],
   "source": [
    "from datetime import date\n",
    "from datetime import time\n",
    "import datetime"
   ]
  },
  {
   "cell_type": "code",
   "execution_count": 14,
   "id": "29a540b9",
   "metadata": {},
   "outputs": [],
   "source": [
    "s='05/07/2019'\n",
    "a=datetime.datetime.strptime(s,'%m/%d/%Y').date()"
   ]
  },
  {
   "cell_type": "code",
   "execution_count": 17,
   "id": "5a67b3f7",
   "metadata": {},
   "outputs": [
    {
     "data": {
      "text/plain": [
       "'2019-05-07'"
      ]
     },
     "execution_count": 17,
     "metadata": {},
     "output_type": "execute_result"
    }
   ],
   "source": [
    "str(a)"
   ]
  },
  {
   "cell_type": "code",
   "execution_count": 32,
   "id": "358a3ecf",
   "metadata": {},
   "outputs": [],
   "source": [
    "b=\"09:30\""
   ]
  },
  {
   "cell_type": "code",
   "execution_count": 33,
   "id": "3c1c9c31",
   "metadata": {},
   "outputs": [],
   "source": [
    "c=datetime.datetime.strptime(b,'%H:%M').time()"
   ]
  },
  {
   "cell_type": "code",
   "execution_count": 34,
   "id": "7147aab3",
   "metadata": {},
   "outputs": [
    {
     "data": {
      "text/plain": [
       "datetime.time(9, 30)"
      ]
     },
     "execution_count": 34,
     "metadata": {},
     "output_type": "execute_result"
    }
   ],
   "source": [
    "c"
   ]
  },
  {
   "cell_type": "code",
   "execution_count": null,
   "id": "e9567096",
   "metadata": {},
   "outputs": [],
   "source": []
  }
 ],
 "metadata": {
  "kernelspec": {
   "display_name": "Python 3 (ipykernel)",
   "language": "python",
   "name": "python3"
  },
  "language_info": {
   "codemirror_mode": {
    "name": "ipython",
    "version": 3
   },
   "file_extension": ".py",
   "mimetype": "text/x-python",
   "name": "python",
   "nbconvert_exporter": "python",
   "pygments_lexer": "ipython3",
   "version": "3.9.13"
  }
 },
 "nbformat": 4,
 "nbformat_minor": 5
}
